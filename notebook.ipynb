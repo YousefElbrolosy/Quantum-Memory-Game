{
 "cells": [
  {
   "cell_type": "code",
   "execution_count": 6,
   "metadata": {},
   "outputs": [
    {
     "data": {
      "text/plain": [
       "\"\\njob_sim = execute(qc, 'local_qasm_simulator')\\n\\nsim_result = job_sim.result()\\nprint(sim_result.get_counts(qc))\\n\""
      ]
     },
     "execution_count": 6,
     "metadata": {},
     "output_type": "execute_result"
    }
   ],
   "source": [
    "from qiskit import ClassicalRegister, QuantumRegister\n",
    "from qiskit import QuantumCircuit, execute\n",
    "from qiskit import *\n",
    "q = QuantumRegister(2)\n",
    "c = ClassicalRegister(2)\n",
    "qc = QuantumCircuit(q, c)\n",
    "qc.h(q[0]) \n",
    "qc.cx(q[0], q[1])\n",
    "#qc.measure(q, c)\n",
    "qc.draw()\n",
    "\"\"\"\n",
    "job_sim = execute(qc, 'local_qasm_simulator')\n",
    "\n",
    "sim_result = job_sim.result()\n",
    "print(sim_result.get_counts(qc))\n",
    "\"\"\""
   ]
  },
  {
   "cell_type": "code",
   "execution_count": 11,
   "metadata": {},
   "outputs": [
    {
     "ename": "AttributeError",
     "evalue": "'str' object has no attribute 'configuration'",
     "output_type": "error",
     "traceback": [
      "\u001b[1;31m---------------------------------------------------------------------------\u001b[0m",
      "\u001b[1;31mAttributeError\u001b[0m                            Traceback (most recent call last)",
      "Cell \u001b[1;32mIn[11], line 10\u001b[0m\n\u001b[0;32m      8\u001b[0m qc\u001b[39m.\u001b[39mcx(q[\u001b[39m0\u001b[39m], q[\u001b[39m1\u001b[39m])\n\u001b[0;32m      9\u001b[0m qc\u001b[39m.\u001b[39mmeasure(q, c)\n\u001b[1;32m---> 10\u001b[0m job_sim \u001b[39m=\u001b[39m execute(qc, \u001b[39m'\u001b[39;49m\u001b[39mlocal_qasm_simulator\u001b[39;49m\u001b[39m'\u001b[39;49m)\n",
      "File \u001b[1;32mc:\\Users\\Yousef Elbrolosy\\anaconda3\\envs\\qiskit8-stable\\lib\\site-packages\\qiskit\\utils\\deprecation.py:182\u001b[0m, in \u001b[0;36mdeprecate_arg.<locals>.decorator.<locals>.wrapper\u001b[1;34m(*args, **kwargs)\u001b[0m\n\u001b[0;32m    169\u001b[0m \u001b[39m@functools\u001b[39m\u001b[39m.\u001b[39mwraps(func)\n\u001b[0;32m    170\u001b[0m \u001b[39mdef\u001b[39;00m \u001b[39mwrapper\u001b[39m(\u001b[39m*\u001b[39margs, \u001b[39m*\u001b[39m\u001b[39m*\u001b[39mkwargs):\n\u001b[0;32m    171\u001b[0m     _maybe_warn_and_rename_kwarg(\n\u001b[0;32m    172\u001b[0m         args,\n\u001b[0;32m    173\u001b[0m         kwargs,\n\u001b[1;32m   (...)\u001b[0m\n\u001b[0;32m    180\u001b[0m         predicate\u001b[39m=\u001b[39mpredicate,\n\u001b[0;32m    181\u001b[0m     )\n\u001b[1;32m--> 182\u001b[0m     \u001b[39mreturn\u001b[39;00m func(\u001b[39m*\u001b[39margs, \u001b[39m*\u001b[39m\u001b[39m*\u001b[39mkwargs)\n",
      "File \u001b[1;32mc:\\Users\\Yousef Elbrolosy\\anaconda3\\envs\\qiskit8-stable\\lib\\site-packages\\qiskit\\utils\\deprecation.py:182\u001b[0m, in \u001b[0;36mdeprecate_arg.<locals>.decorator.<locals>.wrapper\u001b[1;34m(*args, **kwargs)\u001b[0m\n\u001b[0;32m    169\u001b[0m \u001b[39m@functools\u001b[39m\u001b[39m.\u001b[39mwraps(func)\n\u001b[0;32m    170\u001b[0m \u001b[39mdef\u001b[39;00m \u001b[39mwrapper\u001b[39m(\u001b[39m*\u001b[39margs, \u001b[39m*\u001b[39m\u001b[39m*\u001b[39mkwargs):\n\u001b[0;32m    171\u001b[0m     _maybe_warn_and_rename_kwarg(\n\u001b[0;32m    172\u001b[0m         args,\n\u001b[0;32m    173\u001b[0m         kwargs,\n\u001b[1;32m   (...)\u001b[0m\n\u001b[0;32m    180\u001b[0m         predicate\u001b[39m=\u001b[39mpredicate,\n\u001b[0;32m    181\u001b[0m     )\n\u001b[1;32m--> 182\u001b[0m     \u001b[39mreturn\u001b[39;00m func(\u001b[39m*\u001b[39margs, \u001b[39m*\u001b[39m\u001b[39m*\u001b[39mkwargs)\n",
      "File \u001b[1;32mc:\\Users\\Yousef Elbrolosy\\anaconda3\\envs\\qiskit8-stable\\lib\\site-packages\\qiskit\\execute_function.py:304\u001b[0m, in \u001b[0;36mexecute\u001b[1;34m(***failed resolving arguments***)\u001b[0m\n\u001b[0;32m    301\u001b[0m     experiments \u001b[39m=\u001b[39m pass_manager\u001b[39m.\u001b[39mrun(experiments)\n\u001b[0;32m    302\u001b[0m \u001b[39melse\u001b[39;00m:\n\u001b[0;32m    303\u001b[0m     \u001b[39m# transpiling the circuits using given transpile options\u001b[39;00m\n\u001b[1;32m--> 304\u001b[0m     experiments \u001b[39m=\u001b[39m transpile(\n\u001b[0;32m    305\u001b[0m         experiments,\n\u001b[0;32m    306\u001b[0m         basis_gates\u001b[39m=\u001b[39;49mbasis_gates,\n\u001b[0;32m    307\u001b[0m         coupling_map\u001b[39m=\u001b[39;49mcoupling_map,\n\u001b[0;32m    308\u001b[0m         backend_properties\u001b[39m=\u001b[39;49mbackend_properties,\n\u001b[0;32m    309\u001b[0m         initial_layout\u001b[39m=\u001b[39;49minitial_layout,\n\u001b[0;32m    310\u001b[0m         seed_transpiler\u001b[39m=\u001b[39;49mseed_transpiler,\n\u001b[0;32m    311\u001b[0m         optimization_level\u001b[39m=\u001b[39;49moptimization_level,\n\u001b[0;32m    312\u001b[0m         backend\u001b[39m=\u001b[39;49mbackend,\n\u001b[0;32m    313\u001b[0m     )\n\u001b[0;32m    315\u001b[0m \u001b[39mif\u001b[39;00m schedule_circuit:\n\u001b[0;32m    316\u001b[0m     experiments \u001b[39m=\u001b[39m schedule(\n\u001b[0;32m    317\u001b[0m         circuits\u001b[39m=\u001b[39mexperiments,\n\u001b[0;32m    318\u001b[0m         backend\u001b[39m=\u001b[39mbackend,\n\u001b[1;32m   (...)\u001b[0m\n\u001b[0;32m    321\u001b[0m         method\u001b[39m=\u001b[39mscheduling_method,\n\u001b[0;32m    322\u001b[0m     )\n",
      "File \u001b[1;32mc:\\Users\\Yousef Elbrolosy\\anaconda3\\envs\\qiskit8-stable\\lib\\site-packages\\qiskit\\compiler\\transpiler.py:334\u001b[0m, in \u001b[0;36mtranspile\u001b[1;34m(circuits, backend, basis_gates, inst_map, coupling_map, backend_properties, initial_layout, layout_method, routing_method, translation_method, scheduling_method, instruction_durations, dt, approximation_degree, timing_constraints, seed_transpiler, optimization_level, callback, output_name, unitary_synthesis_method, unitary_synthesis_plugin_config, target, hls_config, init_method, optimization_method, ignore_backend_supplied_default_methods)\u001b[0m\n\u001b[0;32m    331\u001b[0m output_name \u001b[39m=\u001b[39m _parse_output_name(output_name, circuits)\n\u001b[0;32m    332\u001b[0m inst_map \u001b[39m=\u001b[39m _parse_inst_map(inst_map, backend)\n\u001b[1;32m--> 334\u001b[0m _check_circuits_coupling_map(circuits, coupling_map, backend)\n\u001b[0;32m    336\u001b[0m timing_constraints \u001b[39m=\u001b[39m _parse_timing_constraints(backend, timing_constraints)\n\u001b[0;32m    338\u001b[0m \u001b[39mif\u001b[39;00m inst_map \u001b[39mis\u001b[39;00m \u001b[39mnot\u001b[39;00m \u001b[39mNone\u001b[39;00m \u001b[39mand\u001b[39;00m inst_map\u001b[39m.\u001b[39mhas_custom_gate() \u001b[39mand\u001b[39;00m target \u001b[39mis\u001b[39;00m \u001b[39mnot\u001b[39;00m \u001b[39mNone\u001b[39;00m:\n\u001b[0;32m    339\u001b[0m     \u001b[39m# Do not mutate backend target\u001b[39;00m\n",
      "File \u001b[1;32mc:\\Users\\Yousef Elbrolosy\\anaconda3\\envs\\qiskit8-stable\\lib\\site-packages\\qiskit\\compiler\\transpiler.py:438\u001b[0m, in \u001b[0;36m_check_circuits_coupling_map\u001b[1;34m(circuits, cmap, backend)\u001b[0m\n\u001b[0;32m    436\u001b[0m backend_version \u001b[39m=\u001b[39m \u001b[39mgetattr\u001b[39m(backend, \u001b[39m\"\u001b[39m\u001b[39mversion\u001b[39m\u001b[39m\"\u001b[39m, \u001b[39m0\u001b[39m)\n\u001b[0;32m    437\u001b[0m \u001b[39mif\u001b[39;00m backend_version \u001b[39m<\u001b[39m\u001b[39m=\u001b[39m \u001b[39m1\u001b[39m:\n\u001b[1;32m--> 438\u001b[0m     \u001b[39mif\u001b[39;00m \u001b[39mnot\u001b[39;00m backend\u001b[39m.\u001b[39;49mconfiguration()\u001b[39m.\u001b[39msimulator:\n\u001b[0;32m    439\u001b[0m         max_qubits \u001b[39m=\u001b[39m backend\u001b[39m.\u001b[39mconfiguration()\u001b[39m.\u001b[39mn_qubits\n\u001b[0;32m    440\u001b[0m     \u001b[39melse\u001b[39;00m:\n",
      "\u001b[1;31mAttributeError\u001b[0m: 'str' object has no attribute 'configuration'"
     ]
    }
   ],
   "source": [
    "from qiskit import ClassicalRegister, QuantumRegister\n",
    "from qiskit import QuantumCircuit, execute\n",
    "from qiskit import *\n",
    "q = QuantumRegister(2)\n",
    "c = ClassicalRegister(2)\n",
    "qc = QuantumCircuit(q, c)\n",
    "qc.h(q[0]) \n",
    "qc.cx(q[0], q[1])\n",
    "qc.measure(q, c)\n",
    "job_sim = execute(qc, 'local_qasm_simulator')"
   ]
  },
  {
   "cell_type": "code",
   "execution_count": 2,
   "metadata": {},
   "outputs": [
    {
     "name": "stdout",
     "output_type": "stream",
     "text": [
      "{'11': 511, '00': 513}\n"
     ]
    }
   ],
   "source": [
    "from qiskit import ClassicalRegister, QuantumRegister\n",
    "from qiskit import QuantumCircuit, execute, Aer\n",
    "\n",
    "q = QuantumRegister(2)\n",
    "c = ClassicalRegister(2)\n",
    "qc = QuantumCircuit(q, c)\n",
    "qc.h(q[0]) \n",
    "qc.cx(q[0], q[1])\n",
    "qc.measure(q, c)\n",
    "sim = Aer.get_backend('qasm_simulator')\n",
    "job_sim = execute(qc, sim)\n",
    "\n",
    "sim_result = job_sim.result()\n",
    "print(sim_result.get_counts(qc))"
   ]
  },
  {
   "cell_type": "code",
   "execution_count": 4,
   "metadata": {},
   "outputs": [
    {
     "data": {
      "image/png": "[encoded data removed]",
      "text/plain": [
       "<Figure size 305.525x284.278 with 1 Axes>"
      ]
     },
     "execution_count": 4,
     "metadata": {},
     "output_type": "execute_result"
    }
   ],
   "source": [
    "from qiskit import ClassicalRegister, QuantumRegister\n",
    "from qiskit import QuantumCircuit, execute, Aer\n",
    "\n",
    "q = QuantumRegister(2)\n",
    "c = ClassicalRegister(2)\n",
    "qc = QuantumCircuit(q, c)\n",
    "qc.h(q[0]) \n",
    "qc.cx(q[0], q[1])\n",
    "#qc.measure(q, c)\n",
    "qc.draw('mpl')"
   ]
  },
  {
   "cell_type": "code",
   "execution_count": null,
   "metadata": {},
   "outputs": [],
   "source": []
  }
 ],
 "metadata": {
  "kernelspec": {
   "display_name": "qiskit8-stable",
   "language": "python",
   "name": "python3"
  },
  "language_info": {
   "codemirror_mode": {
    "name": "ipython",
    "version": 3
   },
   "file_extension": ".py",
   "mimetype": "text/x-python",
   "name": "python",
   "nbconvert_exporter": "python",
   "pygments_lexer": "ipython3",
   "version": "3.9.17"
  },
  "orig_nbformat": 4
 },
 "nbformat": 4,
 "nbformat_minor": 2
}
